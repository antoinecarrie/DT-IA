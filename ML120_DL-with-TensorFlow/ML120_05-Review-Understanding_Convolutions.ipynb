{
 "cells": [
  {
   "cell_type": "markdown",
   "metadata": {},
   "source": [
    "<a href=\"https://www.bigdatauniversity.com\"><img src=\"https://ibm.box.com/shared/static/qo20b88v1hbjztubt06609ovs85q8fau.png\" width=\"400px\" align=\"center\"></a>\n",
    "\n",
    "<h1 align=\"center\"><font size=\"5\">UNDERSTANDING CONVOLUTIONS</font></h1>\n",
    "\n"
   ]
  },
  {
   "cell_type": "markdown",
   "metadata": {},
   "source": [
    "<h2>Introduction</h2>"
   ]
  },
  {
   "cell_type": "markdown",
   "metadata": {},
   "source": [
    "<h3>Lesson</h3>\n",
    "In this lesson, we will learn more about the key concepts behind the CNNs (Convolutional Neural Networks from now on).\n",
    "This lesson is not intended to be a reference for <b>machine learning, deep learning, convolutions</b> or <b>TensorFlow</b>. The intention is to give notions to the user about these fields. \n",
    "\n",
    "<h3>Audience</h3>\n",
    "<ul>\n",
    "    <li>Data scientists. General public related to computer science and machine learning.</li>\n",
    "    <li>Readers interested on TensorFlow and in need of a cloud platform like Workbench Data Scientist.</li>\n",
    "</ul>\n",
    "        \n",
    "<h3>Pre-requisites:</h3>\n",
    "Basic knowledge of linear algebra, Python, Neural Networks and TensorFlow."
   ]
  },
  {
   "cell_type": "markdown",
   "metadata": {},
   "source": [
    "----"
   ]
  },
  {
   "cell_type": "markdown",
   "metadata": {},
   "source": [
    "<h2>Table of contents</h2>\n",
    "\n",
    "<div class=\"alert alert-block alert-info\" style=\"margin-top: 20px\">\n",
    "<font size=\"3\"><strong>Click on the links to go to the following sections:</strong></font>\n",
    "<br>\n",
    "<ol>\n",
    "    <li><a href=\"#ref1\">Analogies</a></li>\n",
    "    <li><a href=\"#ref2\">Understanding and coding with Python</a></li>\n",
    "    <li><a href=\"#ref3\">Coding with TensorFlow</a></li>\n",
    "    <li><a href=\"#ref4\">Convolution applied on images</a></li>\n",
    "    <li><a href=\"#ref5\">Conclusion</a></li>\n",
    "</ol>\n",
    "<p></p>\n",
    "</div>\n",
    "<br>\n",
    "\n",
    "\n",
    "<hr>\n"
   ]
  },
  {
   "cell_type": "markdown",
   "metadata": {},
   "source": [
    "<a id=\"ref1\"></a>\n",
    "<h2>Analogies</h2>\n",
    "\n",
    "There are several ways to understand Convolutional Layers without using a mathematical approach. We are going to explore some of the ideas proposed by the Machine Learning community.\n",
    "\n",
    "<h3>Instances of Neurons</h3>\n",
    "\n",
    "When you start to learn a programming language, one of the first phases of your development is the learning and application of functions. Instead of rewriting pieces of code everytime that you would, a good student is encouraged to code using functional programming, keeping the code organized, clear and concise.\n",
    "CNNs can be thought of as a simplification of what is really going on, a special kind of neural network which uses identical copies of the same neuron. These copies include the same parameters (shared weights and biases) and activation functions."
   ]
  },
  {
   "cell_type": "markdown",
   "metadata": {},
   "source": [
    "<h3>Location and type of connections</h3>\n",
    "\n",
    "In a fully connected layer NN, each neuron in the current layer is connected to every neuron in the previous layer, and each connection has it's own weight. This is a general purpose connection pattern and makes no assumptions about the features in the input data thus not taking any advantage that the knowledge of the data being used can bring. These types of layers are also very expensive in terms of memory and computation.\n",
    "\n",
    "In contrast, in a convolutional layer each neuron is only connected to a few nearby local neurons in the previous layer, and the same set of weights is used to connect to them. For example, in the following image, the neurons in the h1 layer are connected only to some input units (pixels).\n",
    "      \n",
    "<img src=\"https://ibm.box.com/shared/static/mev168hepixnmc9zhh4hsr3t2ks3rpcc.png\" alt=\"HTML5 Icon\" style=\"width: 500px; height: 500px;\">\n",
    "<center> A figure presented in one of Yann LeCun's papers. It shows the spatial relation and how the connections are modified until the output layer <a href=\"http://yann.lecun.com/exdb/publis/pdf/lecun-89e.pdf\">ref</a></center> \n",
    "\n",
    "\n",
    "      \n",
    " \n",
    "\n"
   ]
  },
  {
   "cell_type": "markdown",
   "metadata": {},
   "source": [
    "<h2>Feature Learning</h2>\n",
    "\n",
    "Feature engineering is the process of extracting useful patterns from input data that will help the prediction model to understand better the real nature of the problem. A good feature learning will present patterns in a way that significantly increase the accuracy and performance of the applied machine learning algorithms in a way that would otherwise be impossible or too expensive by just machine learning itself.\n",
    "\n",
    "Feature learning algorithms finds the common patterns that are important to distinguish between the wanted classes and extract them automatically. After this process, they are ready to be used in a classification or regression problem. \n",
    "\n",
    "The great advantage of CNNs is that they are uncommonly good at finding features in images that grow after each level, resulting in high-level features in the end. The final layers (can be one or more) use all these generated features for classification or regression. \n",
    "\n",
    "Basically, Convolutional Neural Networks is your best friend to <b>automatically do Feature Engineering</b> (Feature Learning) without wasting too much time creating your own codes and with no prior need of expertise in the field of Feature Engineering.\n",
    "<br>\n",
    "\n",
    "<img src=\"https://ibm.box.com/shared/static/urzzkc7o5loqrlezcvn4kr594mxi9ftx.png\" alt=\"HTML5 Icon\" style=\"width: 650px; height: 250px;\">\n",
    "<center> \n",
    "    Example of feature learning (automatically feature engineering), starting with simple features and ending with high-level features like human faces. <a href=\"https://devblogs.nvidia.com/parallelforall/deep-learning-nutshell-core-concepts/\">ref</a> \n",
    "</center> \n"
   ]
  },
  {
   "cell_type": "markdown",
   "metadata": {},
   "source": [
    "<h3>Image Filter</h3>\n",
    "\n",
    "<b>How to create a convolved freature from an image ?</b>  \n",
    "The image below is a 8x8 matrix of an image's pixels, converted to binary values in the next image(left), where 1 means a white pixel and 0 a black pixel. Later we will find out that typically this is a normalization, these values can actually have different scales. The most common usage is values between 0 and 255 for 8-bit grayscale images.  \n",
    "\n",
    "<img src=\"https://ibm.box.com/shared/static/0s5v7doe2p5xuzifs47bxmmuwrn3kra2.bmp\" alt=\"HTML5 Icon\" style=\"width: 200px; height: 200px;\">\n",
    "<center> An example of a low resolution image to be recognized.\n",
    "\n",
    "In the below image, with an animation, you can see how the two-dimensional convolution operation would operate on the images. This operation is performed in most of the Deep Learning frameworks in their first phase. We need a sliding windows to create the convolved matrix:\n",
    "\n",
    "$\n",
    "kernel=\n",
    "\\begin{bmatrix}\n",
    "     1          & 0      & 1     \\\\\n",
    "     0          & 1    & 0     \\\\\n",
    "     1          & 0    & 1\n",
    "\\end{bmatrix}\n",
    "\\\\\n",
    "$ \n",
    "\n",
    "\n",
    "\n",
    "\n",
    "The sliding window (a.k.a kernel, filter or feature detector) with a preset calculation ([[x1, x0,x1], [x0,x1,x0], [x1,x0,x1]]) goes through the image and creates a new matrix (feature map)."
   ]
  },
  {
   "cell_type": "markdown",
   "metadata": {},
   "source": [
    " <img src=\"https://ibm.box.com/shared/static/fvutcm8jwa5j2o7xv2zzqyz2yu3zwhz4.gif\" alt=\"HTML5 Icon\" style=\"width: 450px; height: 300px;\">\n",
    "<center>  Animations showing how a kernel interact with a matrix representing an image. <a href=\"http://cs231n.github.io/convolutional-networks/\">ref</a></center>  \n",
    " \n",
    " \n",
    "In the example above we used a 3×3 filter (5x5 could also be used, but would be too complex). The values from the filter were multiplied element-wise with the original matrix (input image), then summed up. To get the full convolved matrix, the algorithm keep repeating this small procedure for each element by sliding the filter over the whole original matrix."
   ]
  },
  {
   "cell_type": "markdown",
   "metadata": {},
   "source": [
    "<img src=\"https://ibm.box.com/shared/static/7maczejdeej0qoz3pzkysw0y8qb70g2h.png\" alt=\"HTML5 Icon\" style=\"width: 500px; height: 200px;\"> \n",
    "<center>  Illustration of the operation for one position of the kernel. <a href=\"http://colah.github.io/posts/2014-07-Understanding-Convolutions/\">ref</a></center>\n",
    "\n",
    "Just like the referenced example, we can think of a one-dimensional convolution as sliding function (1x1 or 1x2 filter) multiplying and adding on top of an array (1 dimensional array, instead of the original matrix).  \n",
    " \n",
    "<b>What is the output of applying a kernel on an image?</b>   \n",
    "The famous GIMP (Open Source Image Editor) has an explanation about the convolution operation applied to images that can help us understand how Neural Networks will interact with this tool."
   ]
  },
  {
   "cell_type": "markdown",
   "metadata": {},
   "source": [
    "<img src=\"https://ibm.box.com/shared/static/wixvbo9pk0f6r6ln879ah9jjo0ua0fo5.png\" alt=\"HTML5 Icon\" style=\"width: 700px; height: 350px;\"> \n",
    "<center>   Applying the left kernel to the image will result into a blur effect. <a href=\"http://colah.github.io/posts/2014-07-Understanding-Convolutions/\">ref</a> </center>\n",
    "\n",
    "\n",
    "Well, this is very good if you want nice effects for your social media photos, but in the field of computer vision you need detailed patterns (remember feature learning) that are almost erased using a kernel like that. A more suitable example would be the Kernel/filter that shows edges from photos (the first recognizable feature of an image).\n",
    "\n",
    "\n",
    "<b>Lets try another kernel:</b>  \n",
    "Taking the values −1 and 1 on two adjacent pixels and zero everywhere else for the kernel, results in the following image. That is, we subtract two adjacent pixels. When side by side pixels are similar, this gives us approximately zero. On edges, however, adjacent pixels are very different in the direction perpendicular to the edge. Knowing that results differs from zero will result in brighter pixels, you can already guess the result of this type of kernel."
   ]
  },
  {
   "cell_type": "markdown",
   "metadata": {},
   "source": [
    "<img src=\"https://ibm.box.com/shared/static/z673yijcsfqs5rd8auc1dwmtkejyizv0.png\" alt=\"HTML5 Icon\" style=\"width:700px;height:350px;\">\n",
    "<center> Applying the new left kernel to the image will result into a edge detection, this output is normally useful for the initial layers of a CNN. <a href=\"http://colah.github.io/posts/2014-07-Understanding-Convolutions/\">ref</a></center>"
   ]
  },
  {
   "cell_type": "markdown",
   "metadata": {},
   "source": [
    "***\n"
   ]
  },
  {
   "cell_type": "markdown",
   "metadata": {},
   "source": [
    "<a id=\"ref2\"></a>\n",
    "<h2>Understanding and coding with Python</h2>"
   ]
  },
  {
   "cell_type": "markdown",
   "metadata": {},
   "source": [
    "<h3>Convolution: 1D operation with Python (Numpy/Scipy)</h3>"
   ]
  },
  {
   "cell_type": "markdown",
   "metadata": {},
   "source": [
    "<h4>Mathematical notation</h4>\n",
    "In this first example, we will use the pure mathematical notation. Here we have a one dimensional convolution operation. Lets say h is our image and x is our kernel: \n",
    "  \n",
    "x[i] = { 3, 4, 5 }  \n",
    "h[i] = { 2, 1, 0 }  \n",
    "\n",
    "where i = index\n",
    "\n",
    "To use the convolution operation between the two arrays try the code below to see how easy it is to do in Python."
   ]
  },
  {
   "cell_type": "code",
   "execution_count": 1,
   "metadata": {},
   "outputs": [
    {
     "data": {
      "text/plain": [
       "array([ 6, 11, 14,  5,  0])"
      ]
     },
     "execution_count": 1,
     "metadata": {},
     "output_type": "execute_result"
    }
   ],
   "source": [
    "import numpy as np\n",
    "\n",
    "h = [2, 1, 0]\n",
    "x = [3, 4, 5]\n",
    " \n",
    "\n",
    "y = np.convolve(x, h)\n",
    "y  "
   ]
  },
  {
   "cell_type": "markdown",
   "metadata": {},
   "source": [
    "sliding x window over h:\n",
    "<ul>\n",
    "    <li>6  = 2 * 3 :            \n",
    "        $\n",
    "        \\begin{bmatrix}\n",
    "             3 & 4 & 5 \\\\\n",
    "        \\end{bmatrix}\n",
    "        \\\\ \n",
    "        \\begin{bmatrix}\n",
    "             2 & 0 & 0 \\\\\n",
    "        \\end{bmatrix}\n",
    "        $ \n",
    "    </li>\n",
    "    <li>11 = 1 * 3 + 2 * 4 :\n",
    "        $\n",
    "        \\begin{bmatrix}\n",
    "             3 & 4 & 5 \\\\\n",
    "        \\end{bmatrix}\n",
    "        \\\\\n",
    "        \\begin{bmatrix}\n",
    "             1 & 2 & 0 \\\\\n",
    "        \\end{bmatrix}\n",
    "        $ \n",
    "    </li>  \n",
    "    <li>14 = 0 * 3 + 1 * 4 + 2 * 5 :\n",
    "        $\n",
    "        \\begin{bmatrix}\n",
    "             3 & 4 & 5 \\\\\n",
    "        \\end{bmatrix}\n",
    "        \\\\\n",
    "        \\begin{bmatrix}\n",
    "             0 & 1 & 2 \\\\\n",
    "        \\end{bmatrix}\n",
    "        $ \n",
    "    </li>  \n",
    "    <li>5  = 0 * 4 + 1 * 5 :\n",
    "        $\n",
    "        \\begin{bmatrix}\n",
    "             3 & 4 & 5 \\\\\n",
    "        \\end{bmatrix}\n",
    "        \\\\\n",
    "        \\begin{bmatrix}\n",
    "             0 & 0 & 1 \\\\\n",
    "        \\end{bmatrix}\n",
    "        $ \n",
    "    </li>\n",
    "    <li>0  = 0 * 5 :\n",
    "        $\n",
    "        \\begin{bmatrix}\n",
    "             3 & 4 & 5 \\\\\n",
    "        \\end{bmatrix}\n",
    "        \\\\\n",
    "        \\begin{bmatrix}\n",
    "             0 & 0 & 0 \\\\\n",
    "        \\end{bmatrix}\n",
    "        $ \n",
    "    </li>\n",
    "</ul>"
   ]
  },
  {
   "cell_type": "markdown",
   "metadata": {},
   "source": [
    "<h4> Now we are going to verify what Python did, because we don't trust computer outputs while we are learning. Using the equation of convolution for y[n]:</h4>\n",
    "  \n",
    "$$y[n] = \\sum\\limits_{k\\to-\\infty}^\\infty x[k] \\cdot h[n-k] $$\n",
    "\n",
    "\n",
    "And then, manually executing computation:\n",
    "\n",
    "$ \n",
    "y[0]= \\sum\\limits_{k\\to-\\infty}^\\infty x[k]\\cdot h[0-k]= x[0]\\cdot h[0]=3\\cdot 2=6 \\\\\n",
    "y[1]= \\sum\\limits_{k\\to-\\infty}^\\infty x[k]\\cdot h[1-k]= x[0]\\cdot h[1-0]+x[1]\\cdot h[1-1] + \\space... \\\\ \n",
    "\\qquad\\qquad\\qquad\\qquad\\qquad   = x[0]\\cdot h[1] + x[1]\\cdot h[0]= 3\\cdot1+4\\cdot 2=11 \\\\\n",
    "y[2]= \\sum\\limits_{k\\to-\\infty}^\\infty x[k]\\cdot h[2-k]= x[0]\\cdot h[2-0]+x[1]\\cdot h[2-1]+x[2]\\cdot h[2-2]+ \\space ... \\\\ \n",
    "\\qquad\\qquad\\qquad\\qquad\\qquad   = x[0]\\cdot h[2] + x[1]\\cdot h[1]+x[2]\\cdot h[0]= 3\\cdot0+4\\cdot 1 +5\\cdot 2=14 \\\\\n",
    "y[3]= \\sum\\limits_{k\\to-\\infty}^\\infty x[k]\\cdot h[3-k]= x[0]\\cdot h[3-0]+x[1]\\cdot h[3-1]+x[2]\\cdot h[3-2]+ x[3]\\cdot h[3-3] + \\space... \\\\ \n",
    "\\qquad\\qquad\\qquad\\qquad\\qquad   = x[0]\\cdot h[3] +x[1]\\cdot h[2] + x[2]\\cdot h[1]+x[3]\\cdot h[0]=0+0+5 \\cdot 1 +0=5 \\\\\n",
    "y[4]= \\sum\\limits_{k\\to-\\infty}^\\infty x[k]\\cdot h[4-k]= x[0]\\cdot h[4-0]+x[1]\\cdot h[4-1]+x[2]\\cdot h[4-2]+\\space... =0\\\\ \n",
    "$"
   ]
  },
  {
   "cell_type": "code",
   "execution_count": 2,
   "metadata": {
    "scrolled": true
   },
   "outputs": [
    {
     "name": "stdout",
     "output_type": "stream",
     "text": [
      "Compare with the following values from Python: y[0] = 6 ; y[1] = 11; y[2] = 14; y[3] = 5; y[4] = 0\n"
     ]
    }
   ],
   "source": [
    "print(\"Compare with the following values from Python: y[0] = {0} ; y[1] = {1}; y[2] = {2}; y[3] = {3}; y[4] = {4}\".format(y[0], y[1], y[2], y[3], y[4])) "
   ]
  },
  {
   "cell_type": "markdown",
   "metadata": {},
   "source": [
    "There are three methods to apply kernel on the matrix, <b>with padding (full)</b>, <b>with padding(same)</b> and <b>without padding(valid)</b>:  \n",
    "\n",
    "</h3>1) Visually understanding the operation with padding (full)</h3>\n",
    "\n",
    "Lets think of the kernel as a sliding window. We have to come with the solution of padding zeros on the input array. This is a very famous implementation and will be easier to show how it works with a simple example, consider this case:\n",
    "  \n",
    "x[i] = [6,2]  \n",
    "h[i] = [1,2,5,4]  "
   ]
  },
  {
   "cell_type": "markdown",
   "metadata": {},
   "source": [
    "Using the zero padding, we can calculate the convolution.\n",
    " \n",
    "You have to invert the filter x, otherwise the operation would be cross-correlation.\n",
    "First step, (now with zero padding): "
   ]
  },
  {
   "cell_type": "raw",
   "metadata": {},
   "source": [
    "[2  6]\n",
    " |  |\n",
    " V  V\n",
    " 0 [1 2 5 4]"
   ]
  },
  {
   "cell_type": "markdown",
   "metadata": {},
   "source": [
    "= 2 \\* 0 + 6 * 1 = 6 \n",
    " \n",
    "Second step:"
   ]
  },
  {
   "cell_type": "raw",
   "metadata": {},
   "source": [
    "  [2  6]  \n",
    "   |  |  \n",
    "   V  V  \n",
    "0 [1  2  5  4]  "
   ]
  },
  {
   "cell_type": "markdown",
   "metadata": {},
   "source": [
    "= 2 \\* 1 + 6 * 2 = 14 (the arrows represent the connection between the kernel and the input)\n",
    "\n",
    "Third step:"
   ]
  },
  {
   "cell_type": "raw",
   "metadata": {},
   "source": [
    "     [2  6]  \n",
    "      |  |  \n",
    "      V  V  \n",
    "0 [1  2  5  4]  "
   ]
  },
  {
   "cell_type": "markdown",
   "metadata": {},
   "source": [
    "= 2 \\* 2 + 6 * 5 = 34  \n",
    "  \n",
    "Fourth step:"
   ]
  },
  {
   "cell_type": "raw",
   "metadata": {},
   "source": [
    "        [2  6]\n",
    "         |  |\n",
    "         V  V\n",
    "0 [1  2  5  4]  "
   ]
  },
  {
   "cell_type": "markdown",
   "metadata": {},
   "source": [
    "= 2 \\* 5 + 6 * 4 = 34\n",
    "\n",
    "Fifth step:"
   ]
  },
  {
   "cell_type": "raw",
   "metadata": {},
   "source": [
    "           [2  6]\n",
    "            |  |\n",
    "            V  V\n",
    "0 [1  2  5  4] 0  "
   ]
  },
  {
   "cell_type": "markdown",
   "metadata": {},
   "source": [
    "= 2 \\* 4 + 6 * 0 = 8\n",
    " \n",
    "The result of the convolution for this case, listing all the steps, would then be: Y = [6 14 34 34 8]\n",
    "\n",
    "Below we verify with numpy:"
   ]
  },
  {
   "cell_type": "code",
   "execution_count": 3,
   "metadata": {},
   "outputs": [
    {
     "data": {
      "text/plain": [
       "array([ 6, 14, 34, 34,  8])"
      ]
     },
     "execution_count": 3,
     "metadata": {},
     "output_type": "execute_result"
    }
   ],
   "source": [
    "import numpy as np\n",
    "\n",
    "x = [6, 2]\n",
    "h = [1, 2, 5, 4]\n",
    "\n",
    "y = np.convolve(x, h, \"full\")  #now, because of the zero padding, the final dimension of the array is bigger\n",
    "y  "
   ]
  },
  {
   "cell_type": "markdown",
   "metadata": {},
   "source": [
    "<h3>2) Visually understanding the operation with \"same\"</h3>\n",
    "In this approach, we just add the zero to left (and top of the matrix in 2D). That is, only the first 4 steps of \"full\" method:"
   ]
  },
  {
   "cell_type": "code",
   "execution_count": 4,
   "metadata": {},
   "outputs": [
    {
     "data": {
      "text/plain": [
       "array([ 6, 14, 34, 34])"
      ]
     },
     "execution_count": 4,
     "metadata": {},
     "output_type": "execute_result"
    }
   ],
   "source": [
    "import numpy as np\n",
    "\n",
    "x = [6, 2]\n",
    "h = [1, 2, 5, 4]\n",
    "\n",
    "y = np.convolve(x, h, \"same\")  # it is same as zero padding, but with returns an ouput with the same length as max of x or h\n",
    "y  "
   ]
  },
  {
   "cell_type": "markdown",
   "metadata": {},
   "source": [
    "<h3>3) Visually understanding the operation with no padding (valid)</h3>\n",
    "\n",
    "In the last case we only applied the kernel when we had a compatible position on the h array, in some cases you want a dimensionality reduction. For this purpose, we simple ignore the steps that would need padding:\n",
    "    \n",
    "x[i] = [6 2] \n",
    "\n",
    "h[i] = [1 2 5 4]\n",
    "\n",
    "You have to invert the filter x, otherwise the operation would be cross-correlation.\n",
    "First step, (now without zero padding):"
   ]
  },
  {
   "cell_type": "raw",
   "metadata": {},
   "source": [
    "[2  6]  \n",
    " |  |  \n",
    " V  V  \n",
    "[1  2  5  4]  "
   ]
  },
  {
   "cell_type": "markdown",
   "metadata": {},
   "source": [
    "= 2 \\* 1 + 6 * 2 = 14 (the arrows represent the connection between the kernel and the input)\n",
    "\n",
    "Second step: "
   ]
  },
  {
   "cell_type": "raw",
   "metadata": {},
   "source": [
    "   [2  6]  \n",
    "    |  |   \n",
    "    V  V  \n",
    "[1  2  5  4]  "
   ]
  },
  {
   "cell_type": "markdown",
   "metadata": {},
   "source": [
    "= 2 \\* 2 + 6 * 5 = 34  \n",
    "  \n",
    "Third step:"
   ]
  },
  {
   "cell_type": "raw",
   "metadata": {},
   "source": [
    "      [2  6]\n",
    "       |  |\n",
    "       V  V\n",
    "[1  2  5  4]  "
   ]
  },
  {
   "cell_type": "markdown",
   "metadata": {},
   "source": [
    "= 2 \\* 5 + 6 * 4 = 34\n",
    "\n",
    "The result of the convolution for this mode would then be Y= [14 34 34] = [ First, second, third step]"
   ]
  },
  {
   "cell_type": "markdown",
   "metadata": {},
   "source": [
    "Let's verify with numpy"
   ]
  },
  {
   "cell_type": "code",
   "execution_count": 5,
   "metadata": {},
   "outputs": [
    {
     "data": {
      "text/plain": [
       "array([14, 34, 34])"
      ]
     },
     "execution_count": 5,
     "metadata": {},
     "output_type": "execute_result"
    }
   ],
   "source": [
    "import numpy as np\n",
    "\n",
    "x = [6, 2]\n",
    "h = [1, 2, 5, 4]\n",
    "\n",
    "y = np.convolve(x, h, \"valid\")   # valid returns output of length max(x, h) - min(x, h) + 1, this is to ensure that values outside of the boundary of \n",
    "                                # h will not be used in the calculation of the convolution\n",
    "                                # in the next example we will understand why we used the argument valid\n",
    "y  "
   ]
  },
  {
   "cell_type": "markdown",
   "metadata": {},
   "source": [
    "<h3>Convolution: 2D operation with Python (Numpy/Scipy)</h3>"
   ]
  },
  {
   "cell_type": "markdown",
   "metadata": {},
   "source": [
    "The 2D convolution operation is defined as:\n",
    "\n",
    "<font size=\"4\">$$ I'= \\sum\\limits_{u,v} I(x-u,y-v)g(u,v) $$ </font> \n",
    " \n",
    " \n",
    "Below we will apply the equation to an image represented by a 3x3 matrix according to the function g = (-1 1). Please note that when we apply the kernel we always use its inversion. \n",
    " \n",
    "$\n",
    "I=\n",
    "\\begin{bmatrix}\n",
    "     255          & 7      & 3     \\\\\n",
    "     212          & 240    & 4     \\\\\n",
    "     218          & 216    & 230\n",
    "\\end{bmatrix}\n",
    "\\\\\n",
    "$ \n",
    "\n",
    "$\n",
    "g=\n",
    "\\begin{bmatrix}\n",
    "     -1          & 1      \n",
    "\\end{bmatrix}\n",
    "\\\\\n",
    "$ \n",
    "  \n",
    "$\n",
    "\\begin{bmatrix}\n",
    "    \\textbf{1}\\cdot \\textbf{0}      & \\textbf{-1} \\ast \\textbf{255}  & 7      & 3     \\\\\n",
    "    0              & 212          & 240    & 4     \\\\\n",
    "    0              & 218          & 216    & 230\n",
    "\\end{bmatrix}\n",
    "\\rightarrow\n",
    "\\begin{bmatrix}\n",
    "    \\textbf{-255}  & 7      & 3     \\\\\n",
    "    212            & 240    & 4     \\\\\n",
    "    218            & 216    & 230\n",
    "\\end{bmatrix}\n",
    "\\\\\n",
    "$\n",
    "\n",
    "$\n",
    "\\begin{bmatrix}\n",
    "    \\textbf{1}\\ast \\textbf{255}      & \\textbf{-1} \\ast \\textbf{7}  & 3    \\\\\n",
    "    212          & 240    & 4     \\\\\n",
    "    218          & 216    & 230\n",
    "\\end{bmatrix}\n",
    "\\rightarrow\n",
    "\\begin{bmatrix}\n",
    "    -255           & \\textbf{248}      & 3     \\\\\n",
    "    212            & 240    & 4     \\\\\n",
    "    218            & 216    & 230\n",
    "\\end{bmatrix}\n",
    "\\\\\n",
    "$\n",
    "\n",
    "$\n",
    "\\begin{bmatrix}\n",
    "    255          & \\textbf{1}\\ast\\textbf{7}  & \\textbf{-1}\\ast\\textbf{3}    \\\\\n",
    "    212          & 240    & 4     \\\\\n",
    "    218          & 216    & 230\n",
    "\\end{bmatrix}\n",
    "\\rightarrow\n",
    "\\begin{bmatrix}\n",
    "    -255           & 248      & \\textbf{4}     \\\\\n",
    "    212            & 240      & 4     \\\\\n",
    "    218            & 216      & 230\n",
    "\\end{bmatrix}\n",
    "\\\\\n",
    "$\n",
    "\n",
    "  \n",
    "$\n",
    "\\begin{bmatrix}\n",
    "    0              & 255          & 7          & 3     \\\\\n",
    "    \\textbf{1}\\ast \\textbf{0}    & \\textbf{-1} \\ast \\textbf{212}  & 240     & 4     \\\\\n",
    "    0              & 218          & 216    & 230\n",
    "\\end{bmatrix}\n",
    "\\rightarrow\n",
    "\\begin{bmatrix}\n",
    "    \\textbf{-255}  & 248    & 4     \\\\\n",
    "    -212            & 240    & 4     \\\\\n",
    "    218            & 216    & 230\n",
    "\\end{bmatrix}\n",
    "\\\\\n",
    "$\n",
    " \n",
    " \n"
   ]
  },
  {
   "cell_type": "markdown",
   "metadata": {},
   "source": [
    "We don't have to finish the calculations, we have the computer at our side. So, let's see what is the code to proceede with this operation: "
   ]
  },
  {
   "cell_type": "code",
   "execution_count": 6,
   "metadata": {
    "scrolled": true
   },
   "outputs": [
    {
     "name": "stdout",
     "output_type": "stream",
     "text": [
      "Without zero padding \n",
      "\n",
      "[[248   4]\n",
      " [-28 236]\n",
      " [  2 -14]] \n",
      "\n",
      "With zero padding \n",
      "\n",
      "[[-255  248    4    3]\n",
      " [-212  -28  236    4]\n",
      " [-218    2  -14  230]]\n"
     ]
    }
   ],
   "source": [
    "from scipy import signal as sg\n",
    "\n",
    "I= [[255,   7,  3],\n",
    "    [212, 240,  4],\n",
    "    [218, 216, 230],]\n",
    "\n",
    "g= [[-1, 1]]\n",
    "\n",
    "print('Without zero padding \\n')\n",
    "print('{0} \\n'.format(sg.convolve( I, g, 'valid')))\n",
    "# The 'valid' argument states that the output consists only of those elements \n",
    "# that do not rely on the zero-padding.\n",
    "\n",
    "print('With zero padding \\n')\n",
    "print(sg.convolve( I, g))"
   ]
  },
  {
   "cell_type": "markdown",
   "metadata": {},
   "source": [
    "For a more difficult case where h= [ [-1  1] , [2   3] ]\n",
    "\n",
    "$\n",
    "\\begin{bmatrix}\n",
    "    \\textbf{3}\\ast \\textbf{0}      & \\textbf{2} \\ast \\textbf{0}     & 0      & 0     \\\\\n",
    "    \\textbf{1}\\ast \\textbf{0}      & \\textbf{-1} \\ast \\textbf{255}  & 7      & 3     \\\\\n",
    "    0              & 212          & 240    & 4     \\\\\n",
    "    0              & 218          & 216    & 230\n",
    "\\end{bmatrix}\n",
    "\\rightarrow\n",
    "\\begin{bmatrix}\n",
    "    \\textbf{-255}  & 7      & 3     \\\\\n",
    "    212            & 240    & 4     \\\\\n",
    "    218            & 216    & 230\n",
    "\\end{bmatrix}\n",
    "\\\\\n",
    "$"
   ]
  },
  {
   "cell_type": "code",
   "execution_count": 7,
   "metadata": {
    "scrolled": true
   },
   "outputs": [
    {
     "name": "stdout",
     "output_type": "stream",
     "text": [
      "With zero padding \n",
      "\n",
      "[[-255  248    4    3]\n",
      " [ 298  751  263   13]\n",
      " [ 206 1118  714  242]\n",
      " [ 436 1086 1108  690]] \n",
      "\n",
      "With zero padding_same_ \n",
      "\n",
      "[[-255  248    4]\n",
      " [ 298  751  263]\n",
      " [ 206 1118  714]] \n",
      "\n",
      "Without zero padding \n",
      "\n",
      "[[ 751  263]\n",
      " [1118  714]]\n"
     ]
    }
   ],
   "source": [
    "from scipy import signal as sg\n",
    "\n",
    "I= [[255,   7,  3],\n",
    "    [212, 240,  4],\n",
    "    [218, 216, 230],]\n",
    "\n",
    "g= [[-1,  1],\n",
    "    [ 2,  3],]\n",
    "\n",
    "print ('With zero padding \\n')\n",
    "print ('{0} \\n'.format(sg.convolve( I, g, 'full')))\n",
    "# The output is the full discrete linear convolution of the inputs. \n",
    "# It will use zero to complete the input matrix\n",
    "\n",
    "print ('With zero padding_same_ \\n')\n",
    "print ('{0} \\n'.format(sg.convolve( I, g, 'same')))\n",
    "# The output is the full discrete linear convolution of the inputs. \n",
    "# It will use zero to complete the input matrix\n",
    "\n",
    "\n",
    "print ('Without zero padding \\n')\n",
    "print (sg.convolve( I, g, 'valid'))\n",
    "# The 'valid' argument states that the output consists only of those elements \n",
    "#that do not rely on the zero-padding."
   ]
  },
  {
   "cell_type": "markdown",
   "metadata": {},
   "source": [
    "----------------"
   ]
  },
  {
   "cell_type": "markdown",
   "metadata": {},
   "source": [
    "<a id=\"ref3\"></a>\n",
    "<h2>Coding with TensorFlow</h2>"
   ]
  },
  {
   "cell_type": "markdown",
   "metadata": {},
   "source": [
    "Numpy is great because it has high optimized matrix operations implemented in a backend using C/C++. However, if our goal is to work with DeepLearning, we need much more. TensorFlow does the same work, but instead of returning to Python everytime, it creates all the operations in the form of graphs and execute them once with the highly optimized backend.\n",
    "\n",
    "Suppose that you have two tensors:\n",
    "\n",
    "* 3x3 filter (4D tensor = [3,3,1,1] = [width, height, channels, number of filters])\n",
    "* 10x10 image (4D tensor = [1,10,10,1] = [batch size, width, height, number of channels]\n",
    "\n",
    "The output size for zero padding 'SAME' mode will be:  \n",
    "* the same as input = 10x10  \n",
    "\n",
    "The output size without zero padding 'VALID' mode:  \n",
    "* input size - kernel dimension + 1 = 10 -3 + 1 = 8 = 8x8 "
   ]
  },
  {
   "cell_type": "code",
   "execution_count": 8,
   "metadata": {},
   "outputs": [
    {
     "name": "stderr",
     "output_type": "stream",
     "text": [
      "/home/jupyterlab/conda/envs/python/lib/python3.6/site-packages/tensorflow/python/framework/dtypes.py:519: FutureWarning: Passing (type, 1) or '1type' as a synonym of type is deprecated; in a future version of numpy, it will be understood as (type, (1,)) / '(1,)type'.\n",
      "  _np_qint8 = np.dtype([(\"qint8\", np.int8, 1)])\n",
      "/home/jupyterlab/conda/envs/python/lib/python3.6/site-packages/tensorflow/python/framework/dtypes.py:520: FutureWarning: Passing (type, 1) or '1type' as a synonym of type is deprecated; in a future version of numpy, it will be understood as (type, (1,)) / '(1,)type'.\n",
      "  _np_quint8 = np.dtype([(\"quint8\", np.uint8, 1)])\n",
      "/home/jupyterlab/conda/envs/python/lib/python3.6/site-packages/tensorflow/python/framework/dtypes.py:521: FutureWarning: Passing (type, 1) or '1type' as a synonym of type is deprecated; in a future version of numpy, it will be understood as (type, (1,)) / '(1,)type'.\n",
      "  _np_qint16 = np.dtype([(\"qint16\", np.int16, 1)])\n",
      "/home/jupyterlab/conda/envs/python/lib/python3.6/site-packages/tensorflow/python/framework/dtypes.py:522: FutureWarning: Passing (type, 1) or '1type' as a synonym of type is deprecated; in a future version of numpy, it will be understood as (type, (1,)) / '(1,)type'.\n",
      "  _np_quint16 = np.dtype([(\"quint16\", np.uint16, 1)])\n",
      "/home/jupyterlab/conda/envs/python/lib/python3.6/site-packages/tensorflow/python/framework/dtypes.py:523: FutureWarning: Passing (type, 1) or '1type' as a synonym of type is deprecated; in a future version of numpy, it will be understood as (type, (1,)) / '(1,)type'.\n",
      "  _np_qint32 = np.dtype([(\"qint32\", np.int32, 1)])\n",
      "/home/jupyterlab/conda/envs/python/lib/python3.6/site-packages/tensorflow/python/framework/dtypes.py:528: FutureWarning: Passing (type, 1) or '1type' as a synonym of type is deprecated; in a future version of numpy, it will be understood as (type, (1,)) / '(1,)type'.\n",
      "  np_resource = np.dtype([(\"resource\", np.ubyte, 1)])\n"
     ]
    },
    {
     "name": "stdout",
     "output_type": "stream",
     "text": [
      "Input \n",
      "\n",
      "[[[[-1.50579703e+00]\n",
      "   [-1.47095311e+00]\n",
      "   [-8.73816431e-01]\n",
      "   [-2.32318592e+00]\n",
      "   [ 1.01318645e+00]\n",
      "   [ 2.26902103e+00]\n",
      "   [-1.55543888e+00]\n",
      "   [ 9.46355581e-01]\n",
      "   [ 3.16006809e-01]\n",
      "   [ 6.78541422e-01]]\n",
      "\n",
      "  [[ 2.53501534e-01]\n",
      "   [-5.16080074e-02]\n",
      "   [-8.21940303e-01]\n",
      "   [ 1.82893619e-01]\n",
      "   [ 9.91878748e-01]\n",
      "   [ 9.55382109e-01]\n",
      "   [-3.89865935e-01]\n",
      "   [-3.53256017e-01]\n",
      "   [-1.16403270e+00]\n",
      "   [ 6.04315221e-01]]\n",
      "\n",
      "  [[-4.26752537e-01]\n",
      "   [-1.79572654e+00]\n",
      "   [-9.69766006e-02]\n",
      "   [-1.07889816e-01]\n",
      "   [-9.49626088e-01]\n",
      "   [-2.28685212e+00]\n",
      "   [ 6.17312431e-01]\n",
      "   [ 1.11149274e-01]\n",
      "   [ 3.10721934e-01]\n",
      "   [-2.12164834e-01]]\n",
      "\n",
      "  [[ 2.20147803e-01]\n",
      "   [ 1.09049246e-01]\n",
      "   [ 2.60015011e+00]\n",
      "   [ 9.55023825e-01]\n",
      "   [ 6.50714874e-01]\n",
      "   [-1.76311326e+00]\n",
      "   [-1.80129677e-01]\n",
      "   [-1.85151863e+00]\n",
      "   [-6.95719302e-01]\n",
      "   [-9.10758853e-01]]\n",
      "\n",
      "  [[ 1.16658306e+00]\n",
      "   [-1.78813529e+00]\n",
      "   [ 1.33543447e-01]\n",
      "   [-6.56632364e-01]\n",
      "   [ 3.96245837e-01]\n",
      "   [ 2.85306629e-02]\n",
      "   [ 2.40095511e-01]\n",
      "   [ 2.26168847e+00]\n",
      "   [ 1.19819283e+00]\n",
      "   [-4.96001810e-01]]\n",
      "\n",
      "  [[ 1.38529050e+00]\n",
      "   [ 6.24615848e-01]\n",
      "   [ 1.48471761e+00]\n",
      "   [ 8.78108144e-01]\n",
      "   [-8.31675589e-01]\n",
      "   [ 2.02932167e+00]\n",
      "   [-1.34762451e-01]\n",
      "   [ 8.57981265e-01]\n",
      "   [-1.49366021e+00]\n",
      "   [-2.13942051e+00]]\n",
      "\n",
      "  [[ 1.64360714e+00]\n",
      "   [ 7.21594393e-01]\n",
      "   [ 7.61597991e-01]\n",
      "   [-5.97313523e-01]\n",
      "   [-1.08834600e+00]\n",
      "   [ 4.07373637e-01]\n",
      "   [-9.77535099e-02]\n",
      "   [-8.01282763e-01]\n",
      "   [ 4.61390853e-01]\n",
      "   [-2.06916022e+00]]\n",
      "\n",
      "  [[-1.28837928e-01]\n",
      "   [-1.10670435e+00]\n",
      "   [ 5.49878240e-01]\n",
      "   [-8.01782906e-01]\n",
      "   [ 1.18942714e+00]\n",
      "   [-1.56835580e+00]\n",
      "   [ 5.66111743e-01]\n",
      "   [ 7.22059608e-01]\n",
      "   [ 1.79383206e+00]\n",
      "   [-2.86446989e-01]]\n",
      "\n",
      "  [[-1.04757178e+00]\n",
      "   [-6.64534211e-01]\n",
      "   [ 2.80715132e+00]\n",
      "   [ 7.93772042e-01]\n",
      "   [-5.20682894e-02]\n",
      "   [ 2.75492340e-01]\n",
      "   [ 9.74817753e-01]\n",
      "   [ 7.45414138e-01]\n",
      "   [-1.06652105e+00]\n",
      "   [-1.97337198e+00]]\n",
      "\n",
      "  [[ 1.71110108e-01]\n",
      "   [-5.06476700e-01]\n",
      "   [ 6.46184490e-04]\n",
      "   [-7.84400851e-02]\n",
      "   [-1.57242596e+00]\n",
      "   [ 2.38532567e+00]\n",
      "   [ 5.08182347e-01]\n",
      "   [ 2.60520518e-01]\n",
      "   [-1.99877989e+00]\n",
      "   [-1.53177774e+00]]]] \n",
      "\n",
      "Filter/Kernel \n",
      "\n",
      "[[[[-1.0168415 ]]\n",
      "\n",
      "  [[-0.22864513]]\n",
      "\n",
      "  [[ 0.12348361]]]\n",
      "\n",
      "\n",
      " [[[-1.8907503 ]]\n",
      "\n",
      "  [[ 1.1351752 ]]\n",
      "\n",
      "  [[ 0.10769765]]]\n",
      "\n",
      "\n",
      " [[[ 1.51478   ]]\n",
      "\n",
      "  [[ 0.4979367 ]]\n",
      "\n",
      "  [[-0.39093816]]]] \n",
      "\n",
      "Result/Feature Map with valid positions \n",
      "\n",
      "[[[[-0.36951467]\n",
      "   [-2.1333673 ]\n",
      "   [ 3.5839777 ]\n",
      "   [ 3.5516157 ]\n",
      "   [-5.392492  ]\n",
      "   [-7.3218794 ]\n",
      "   [ 2.4840097 ]\n",
      "   [-1.1331074 ]]\n",
      "\n",
      "  [[-2.218216  ]\n",
      "   [ 4.6231003 ]\n",
      "   [ 5.034866  ]\n",
      "   [ 1.0448581 ]\n",
      "   [-1.8309675 ]\n",
      "   [ 2.0740495 ]\n",
      "   [-1.5968952 ]\n",
      "   [-1.9753197 ]]\n",
      "\n",
      "  [[ 1.6446557 ]\n",
      "   [ 2.297682  ]\n",
      "   [-4.035599  ]\n",
      "   [-2.0209758 ]\n",
      "   [-1.1658874 ]\n",
      "   [ 4.4062595 ]\n",
      "   [-1.4294485 ]\n",
      "   [ 6.619135  ]]\n",
      "\n",
      "  [[-2.3198981 ]\n",
      "   [ 4.216492  ]\n",
      "   [-0.7257685 ]\n",
      "   [ 0.47948235]\n",
      "   [-1.1683947 ]\n",
      "   [ 4.7390003 ]\n",
      "   [ 3.5701025 ]\n",
      "   [ 0.35204858]]\n",
      "\n",
      "  [[ 0.04009354]\n",
      "   [ 4.011422  ]\n",
      "   [-0.55501497]\n",
      "   [-3.4111972 ]\n",
      "   [ 2.0742753 ]\n",
      "   [-2.820485  ]\n",
      "   [-0.27284688]\n",
      "   [-6.3583026 ]]\n",
      "\n",
      "  [[-4.5357885 ]\n",
      "   [-2.5194755 ]\n",
      "   [-4.07974   ]\n",
      "   [-0.52350503]\n",
      "   [ 3.6742136 ]\n",
      "   [-5.2703514 ]\n",
      "   [-0.40286452]\n",
      "   [ 3.1198046 ]]\n",
      "\n",
      "  [[-5.710874  ]\n",
      "   [ 1.729563  ]\n",
      "   [ 2.0738277 ]\n",
      "   [ 4.6725564 ]\n",
      "   [-3.2896268 ]\n",
      "   [ 3.8062372 ]\n",
      "   [ 2.5468106 ]\n",
      "   [ 2.46355   ]]\n",
      "\n",
      "  [[ 1.987357  ]\n",
      "   [ 4.69296   ]\n",
      "   [-4.064458  ]\n",
      "   [-3.0149012 ]\n",
      "   [-1.6575972 ]\n",
      "   [ 5.984914  ]\n",
      "   [ 0.04985088]\n",
      "   [-4.014155  ]]]]\n",
      "\n",
      "\n",
      "Result/Feature Map with padding \n",
      "\n",
      "[[[[-1.7213583 ]\n",
      "   [ 1.762818  ]\n",
      "   [ 0.9801192 ]\n",
      "   [-2.417689  ]\n",
      "   [ 6.184518  ]\n",
      "   [ 2.6231482 ]\n",
      "   [-4.5627613 ]\n",
      "   [ 3.7378635 ]\n",
      "   [-2.7084913 ]\n",
      "   [-1.2895693 ]]\n",
      "\n",
      "  [[ 0.93438745]\n",
      "   [-0.36951467]\n",
      "   [-2.1333673 ]\n",
      "   [ 3.5839777 ]\n",
      "   [ 3.5516157 ]\n",
      "   [-5.392492  ]\n",
      "   [-7.3218794 ]\n",
      "   [ 2.4840097 ]\n",
      "   [-1.1331074 ]\n",
      "   [ 2.7754555 ]]\n",
      "\n",
      "  [[-0.6751809 ]\n",
      "   [-2.218216  ]\n",
      "   [ 4.6231003 ]\n",
      "   [ 5.034866  ]\n",
      "   [ 1.0448581 ]\n",
      "   [-1.8309675 ]\n",
      "   [ 2.0740495 ]\n",
      "   [-1.5968952 ]\n",
      "   [-1.9753197 ]\n",
      "   [-1.2902408 ]]\n",
      "\n",
      "  [[ 1.4174175 ]\n",
      "   [ 1.6446557 ]\n",
      "   [ 2.297682  ]\n",
      "   [-4.035599  ]\n",
      "   [-2.0209758 ]\n",
      "   [-1.1658874 ]\n",
      "   [ 4.4062595 ]\n",
      "   [-1.4294485 ]\n",
      "   [ 6.619135  ]\n",
      "   [ 1.5821371 ]]\n",
      "\n",
      "  [[ 1.5404291 ]\n",
      "   [-2.3198981 ]\n",
      "   [ 4.216492  ]\n",
      "   [-0.7257685 ]\n",
      "   [ 0.47948235]\n",
      "   [-1.1683947 ]\n",
      "   [ 4.7390003 ]\n",
      "   [ 3.5701025 ]\n",
      "   [ 0.35204858]\n",
      "   [-5.240718  ]]\n",
      "\n",
      "  [[ 1.6885917 ]\n",
      "   [ 0.04009354]\n",
      "   [ 4.011422  ]\n",
      "   [-0.55501497]\n",
      "   [-3.4111972 ]\n",
      "   [ 2.0742753 ]\n",
      "   [-2.820485  ]\n",
      "   [-0.27284688]\n",
      "   [-6.3583026 ]\n",
      "   [-1.0408479 ]]\n",
      "\n",
      "  [[ 2.072386  ]\n",
      "   [-4.5357885 ]\n",
      "   [-2.5194755 ]\n",
      "   [-4.07974   ]\n",
      "   [-0.52350503]\n",
      "   [ 3.6742136 ]\n",
      "   [-5.2703514 ]\n",
      "   [-0.40286452]\n",
      "   [ 3.1198046 ]\n",
      "   [ 1.3613782 ]]\n",
      "\n",
      "  [[-0.81397337]\n",
      "   [-5.710874  ]\n",
      "   [ 1.729563  ]\n",
      "   [ 2.0738277 ]\n",
      "   [ 4.6725564 ]\n",
      "   [-3.2896268 ]\n",
      "   [ 3.8062372 ]\n",
      "   [ 2.5468106 ]\n",
      "   [ 2.46355   ]\n",
      "   [-6.3110733 ]]\n",
      "\n",
      "  [[-1.0847449 ]\n",
      "   [ 1.987357  ]\n",
      "   [ 4.69296   ]\n",
      "   [-4.064458  ]\n",
      "   [-3.0149012 ]\n",
      "   [-1.6575972 ]\n",
      "   [ 5.984914  ]\n",
      "   [ 0.04985088]\n",
      "   [-4.014155  ]\n",
      "   [-5.772586  ]]\n",
      "\n",
      "  [[ 0.29715672]\n",
      "   [ 0.66539747]\n",
      "   [ 1.081809  ]\n",
      "   [-3.3019614 ]\n",
      "   [-2.1409907 ]\n",
      "   [ 5.8458867 ]\n",
      "   [-4.3160944 ]\n",
      "   [-2.1737418 ]\n",
      "   [-3.684306  ]\n",
      "   [ 3.5760422 ]]]]\n"
     ]
    }
   ],
   "source": [
    "import tensorflow as tf\n",
    "\n",
    "#Building graph\n",
    "\n",
    "input = tf.Variable(tf.random_normal([1, 10, 10, 1]))\n",
    "filter = tf.Variable(tf.random_normal([3, 3, 1, 1]))\n",
    "op = tf.nn.conv2d(input, filter, strides=[1, 1, 1, 1], padding='VALID')\n",
    "op2 = tf.nn.conv2d(input, filter, strides=[1, 1, 1, 1], padding='SAME')\n",
    "\n",
    "#Initialization and session\n",
    "init = tf.global_variables_initializer()\n",
    "with tf.Session() as sess:\n",
    "    sess.run(init)\n",
    "\n",
    "    print(\"Input \\n\")\n",
    "    print('{0} \\n'.format(input.eval()))\n",
    "    print(\"Filter/Kernel \\n\")\n",
    "    print('{0} \\n'.format(filter.eval()))\n",
    "    print(\"Result/Feature Map with valid positions \\n\")\n",
    "    result = sess.run(op)\n",
    "    print(result)\n",
    "    print('\\n')\n",
    "    print(\"Result/Feature Map with padding \\n\")\n",
    "    result2 = sess.run(op2)\n",
    "    print(result2)"
   ]
  },
  {
   "cell_type": "markdown",
   "metadata": {},
   "source": [
    "<hr>"
   ]
  },
  {
   "cell_type": "markdown",
   "metadata": {},
   "source": [
    "<a id=\"ref4\"></a>\n",
    "<h2>Convolution applied on images</h2>"
   ]
  },
  {
   "cell_type": "markdown",
   "metadata": {},
   "source": [
    "Upload your own image (drag and drop to this window) and type its name on the input field on the next cell (press <b>shift + enter</b>). The result of this pre-processing will be an image with only a grayscale channel.\n",
    "\n",
    "You can type <b>bird.jpg</b> to use a default image"
   ]
  },
  {
   "cell_type": "code",
   "execution_count": 9,
   "metadata": {},
   "outputs": [],
   "source": [
    "# download standard image\n",
    "!wget --quiet https://ibm.box.com/shared/static/cn7yt7z10j8rx6um1v9seagpgmzzxnlz.jpg --output-document bird.jpg    "
   ]
  },
  {
   "cell_type": "code",
   "execution_count": 10,
   "metadata": {},
   "outputs": [
    {
     "name": "stdout",
     "output_type": "stream",
     "text": [
      "\n",
      " Original type: <PIL.Image.Image image mode=L size=1920x1440 at 0x7F4854D79128> \n",
      "\n",
      "\n",
      "After conversion to numerical representation: \n",
      "\n",
      " array([[ 64,  71,  65, ...,  49,  47,  48],\n",
      "       [ 68,  71,  64, ...,  54,  52,  51],\n",
      "       [ 65,  69,  66, ...,  54,  50,  55],\n",
      "       ...,\n",
      "       [ 21,  24,  23, ..., 184, 170, 155],\n",
      "       [ 18,  21,  26, ..., 179, 166, 153],\n",
      "       [ 27,  22,  21, ..., 170, 159, 149]], dtype=uint8)\n",
      "\n",
      " Input image converted to gray scale: \n",
      "\n"
     ]
    },
    {
     "data": {
      "image/png": "[encoded data removed]",
      "text/plain": [
       "<Figure size 432x288 with 1 Axes>"
      ]
     },
     "metadata": {
      "needs_background": "light"
     },
     "output_type": "display_data"
    }
   ],
   "source": [
    "\n",
    "#Importing\n",
    "import numpy as np\n",
    "from scipy import signal\n",
    "from scipy import misc\n",
    "import matplotlib.pyplot as plt\n",
    "from PIL import Image\n",
    "\n",
    "im = Image.open('bird.jpg')  # type here your image's name\n",
    "\n",
    "image_gr = im.convert(\"L\")    # convert(\"L\") translate color images into black and white\n",
    "                              # uses the ITU-R 601-2 Luma transform (there are several \n",
    "                              # ways to convert an image to grey scale)\n",
    "print(\"\\n Original type: %r \\n\\n\" % image_gr)\n",
    "\n",
    "# convert image to a matrix with values from 0 to 255 (uint8) \n",
    "arr = np.asarray(image_gr) \n",
    "print(\"After conversion to numerical representation: \\n\\n %r\" % arr) \n",
    "### Activating matplotlib for Ipython\n",
    "%matplotlib inline\n",
    "\n",
    "### Plot image\n",
    "\n",
    "imgplot = plt.imshow(arr)\n",
    "imgplot.set_cmap('gray')  #you can experiment different colormaps (Greys,winter,autumn)\n",
    "print(\"\\n Input image converted to gray scale: \\n\")\n",
    "plt.show(imgplot)"
   ]
  },
  {
   "cell_type": "markdown",
   "metadata": {},
   "source": [
    "Now, we will experiment using an edge detector kernel."
   ]
  },
  {
   "cell_type": "code",
   "execution_count": 11,
   "metadata": {},
   "outputs": [],
   "source": [
    "kernel = np.array([[ 0, 1, 0],\n",
    "                   [ 1,-4, 1],\n",
    "                   [ 0, 1, 0],]) \n",
    "\n",
    "grad = signal.convolve2d(arr, kernel, mode='same', boundary='symm')"
   ]
  },
  {
   "cell_type": "code",
   "execution_count": null,
   "metadata": {},
   "outputs": [],
   "source": [
    "%matplotlib inline\n",
    "\n",
    "print('GRADIENT MAGNITUDE - Feature map')\n",
    "\n",
    "fig, aux = plt.subplots(figsize=(10, 10))\n",
    "aux.imshow(np.absolute(grad), cmap='gray')\n"
   ]
  },
  {
   "cell_type": "markdown",
   "metadata": {},
   "source": [
    "If we change the kernel and start to analyze the outputs we would be acting as a CNN. The difference is that a Neural Network do all this work automatically (the kernel adjustment using different weights). In addition, we can understand how biases affect the behaviour of feature maps"
   ]
  },
  {
   "cell_type": "markdown",
   "metadata": {},
   "source": [
    "<b>Please note that when you are dealing with most of the real applications of CNNs, you usually convert the pixels values to a range from 0 to 1. This process is called normalization.</b>"
   ]
  },
  {
   "cell_type": "code",
   "execution_count": null,
   "metadata": {
    "collapsed": true,
    "jupyter": {
     "outputs_hidden": true
    }
   },
   "outputs": [],
   "source": [
    "type(grad)\n",
    "\n",
    "grad_biases = np.absolute(grad) + 100\n",
    "\n",
    "grad_biases[grad_biases > 255] = 255\n"
   ]
  },
  {
   "cell_type": "code",
   "execution_count": null,
   "metadata": {
    "collapsed": true,
    "jupyter": {
     "outputs_hidden": true
    }
   },
   "outputs": [],
   "source": [
    "%matplotlib inline\n",
    "\n",
    "print('GRADIENT MAGNITUDE - Feature map')\n",
    "\n",
    "fig, aux = plt.subplots(figsize=(10, 10))\n",
    "aux.imshow(np.absolute(grad_biases), cmap='gray')"
   ]
  },
  {
   "cell_type": "markdown",
   "metadata": {},
   "source": [
    "Lets see how it works for a digit:"
   ]
  },
  {
   "cell_type": "code",
   "execution_count": null,
   "metadata": {},
   "outputs": [],
   "source": [
    "# download standard image\n",
    "!wget --quiet https://ibm.box.com/shared/static/vvm1b63uvuxq88vbw9znpwu5ol380mco.jpg --output-document num3.jpg    "
   ]
  },
  {
   "cell_type": "code",
   "execution_count": null,
   "metadata": {
    "collapsed": true,
    "jupyter": {
     "outputs_hidden": true
    }
   },
   "outputs": [],
   "source": [
    "\n",
    "#Importing\n",
    "import numpy as np\n",
    "from scipy import signal\n",
    "from scipy import misc\n",
    "import matplotlib.pyplot as plt\n",
    "from PIL import Image\n",
    "\n",
    "im = Image.open('num3.jpg')  # type here your image's name\n",
    "\n",
    "image_gr = im.convert(\"L\")    # convert(\"L\") translate color images into black and white\n",
    "                              # uses the ITU-R 601-2 Luma transform (there are several \n",
    "                              # ways to convert an image to grey scale)\n",
    "print(\"\\n Original type: %r \\n\\n\" % image_gr)\n",
    "\n",
    "# convert image to a matrix with values from 0 to 255 (uint8) \n",
    "arr = np.asarray(image_gr) \n",
    "print(\"After conversion to numerical representation: \\n\\n %r\" % arr) \n",
    "### Activating matplotlib for Ipython\n",
    "%matplotlib inline\n",
    "\n",
    "### Plot image\n",
    "fig, aux = plt.subplots(figsize=(10, 10))\n",
    "imgplot = plt.imshow(arr)\n",
    "imgplot.set_cmap('gray')  #you can experiment different colormaps (Greys,winter,autumn)\n",
    "print(\"\\n Input image converted to gray scale: \\n\")\n",
    "plt.show(imgplot)"
   ]
  },
  {
   "cell_type": "markdown",
   "metadata": {},
   "source": [
    "Now, we will experiment using an edge detector kernel."
   ]
  },
  {
   "cell_type": "code",
   "execution_count": null,
   "metadata": {
    "collapsed": true,
    "jupyter": {
     "outputs_hidden": true
    }
   },
   "outputs": [],
   "source": [
    "kernel = np.array([\n",
    "                        [ 0, 1, 0],\n",
    "                        [ 1,-4, 1],\n",
    "                        [ 0, 1, 0],\n",
    "                                     ]) \n",
    "\n",
    "grad = signal.convolve2d(arr, kernel, mode='same', boundary='symm')\n",
    "%matplotlib inline\n",
    "\n",
    "print('GRADIENT MAGNITUDE - Feature map')\n",
    "\n",
    "fig, aux = plt.subplots(figsize=(10, 10))\n",
    "aux.imshow(np.absolute(grad), cmap='gray')\n"
   ]
  },
  {
   "cell_type": "markdown",
   "metadata": {},
   "source": [
    "<a id=\"ref5\"></a>\n",
    "<h2>Conclusion</h2>\n",
    "\n",
    "This understanding of how convolutions work are the foundation of how Convolutional Neural Networks work. After this tutorial you are supposed to understand the underlying mathematical concepts and how to apply them using| Python (Numpy) and TensorFlow. The next step is to extrapolate this knowledge to Machine Learning applications."
   ]
  },
  {
   "cell_type": "markdown",
   "metadata": {},
   "source": [
    "<hr>"
   ]
  },
  {
   "cell_type": "markdown",
   "metadata": {},
   "source": [
    "## Want to learn more?\n",
    "\n",
    "Running deep learning programs usually needs a high performance platform. __PowerAI__ speeds up deep learning and AI. Built on IBM’s Power Systems, __PowerAI__ is a scalable software platform that accelerates deep learning and AI with blazing performance for individual users or enterprises. The __PowerAI__ platform supports popular machine learning libraries and dependencies including TensorFlow, Caffe, Torch, and Theano. You can use [PowerAI on IMB Cloud](https://cocl.us/ML0120EN_PAI).\n",
    "\n",
    "Also, you can use __Watson Studio__ to run these notebooks faster with bigger datasets.__Watson Studio__ is IBM’s leading cloud solution for data scientists, built by data scientists. With Jupyter notebooks, RStudio, Apache Spark and popular libraries pre-packaged in the cloud, __Watson Studio__ enables data scientists to collaborate on their projects without having to install anything. Join the fast-growing community of __Watson Studio__ users today with a free account at [Watson Studio](https://cocl.us/ML0120EN_DSX).This is the end of this lesson. Thank you for reading this notebook, and good luck on your studies."
   ]
  },
  {
   "cell_type": "markdown",
   "metadata": {},
   "source": [
    "### Thanks for completing this lesson!\n",
    "\n",
    "If you are familiar with some of these methods and concepts, this tutorial might have been boring for you, but it is important to get used to the TensorFlow mechanics, and feel familiar and comfortable using it, so you can build more complex algorithms in it.\n",
    "\n",
    "Created by <a href=\"https://linkedin.com/in/saeedaghabozorgi\"> Saeed Aghabozorgi </a> , <a href=\"https://ca.linkedin.com/in/rafaelblsilva\"> Rafael Belo Da Silva</a><br />\n",
    "\n",
    "This tutorial was inspired by the documentation of TensorFlow : https://www.tensorflow.org/versions/r0.9/get_started/index.html <br>"
   ]
  },
  {
   "cell_type": "markdown",
   "metadata": {},
   "source": [
    "# REFERENCES"
   ]
  },
  {
   "cell_type": "markdown",
   "metadata": {},
   "source": [
    "https://github.com/joanbruna/stat212b/blob/master/lec1.pdf  \n",
    "http://deeplearning.stanford.edu/wiki/index.php/Feature_extraction_using_convolution  \n",
    "http://homepages.inf.ed.ac.uk/rbf/HIPR2/fourier.htm  "
   ]
  },
  {
   "cell_type": "markdown",
   "metadata": {},
   "source": [
    "<hr>\n",
    "\n",
    "Copyright &copy; 2018 [Cognitive Class](https://cocl.us/DX0108EN_CC). This notebook and its source code are released under the terms of the [MIT License](https://bigdatauniversity.com/mit-license/)."
   ]
  }
 ],
 "metadata": {
  "anaconda-cloud": {},
  "kernelspec": {
   "display_name": "Python",
   "language": "python",
   "name": "conda-env-python-py"
  },
  "language_info": {
   "codemirror_mode": {
    "name": "ipython",
    "version": 3
   },
   "file_extension": ".py",
   "mimetype": "text/x-python",
   "name": "python",
   "nbconvert_exporter": "python",
   "pygments_lexer": "ipython3",
   "version": "3.6.10"
  },
  "widgets": {
   "state": {},
   "version": "1.1.2"
  }
 },
 "nbformat": 4,
 "nbformat_minor": 4
}
